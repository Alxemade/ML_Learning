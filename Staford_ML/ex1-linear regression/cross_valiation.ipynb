{
 "cells": [
  {
   "cell_type": "markdown",
   "metadata": {},
   "source": [
    "## Sklearn 相关使用(cross-valiation)\n",
    "[参考教程:莫凡sklearn学习](https://morvanzhou.github.io/tutorials/machine-learning/sklearn/)"
   ]
  },
  {
   "cell_type": "markdown",
   "metadata": {},
   "source": [
    "###  1.sklearn 基本用法"
   ]
  },
  {
   "cell_type": "code",
   "execution_count": 1,
   "metadata": {},
   "outputs": [
    {
     "name": "stdout",
     "output_type": "stream",
     "text": [
      "0.98\n"
     ]
    }
   ],
   "source": [
    "#!/usr/bin/env python3\n",
    "# -*- coding: utf-8 -*-\n",
    "\n",
    "'a simple cross valiation'\n",
    "__author__ = 'xuchao'\n",
    "\n",
    "from sklearn.datasets import load_iris   # load data\n",
    "from sklearn.model_selection import train_test_split  # split the data to train data and test data\n",
    "from sklearn.neighbors import  KNeighborsClassifier   # use the knn to trin the data\n",
    "\n",
    "# 1 prepare data\n",
    "iris = load_iris()\n",
    "X = iris.data\n",
    "y = iris.target\n",
    "X_train, X_test, y_train, y_test = train_test_split(X, y, test_size=0.33, random_state=4)  # split the data\n",
    "knn = KNeighborsClassifier(n_neighbors=5)  # 先定义一个基本的模型, 分成了5类\n",
    "knn.fit(X_train, y_train)   # 拟合模型\n",
    "accuracy = knn.score(X_test, y_test)  # 输出预测的误差\n",
    "print(accuracy)  #\n"
   ]
  },
  {
   "cell_type": "markdown",
   "metadata": {},
   "source": [
    "### 2.1 sklearn的k折交叉验证"
   ]
  },
  {
   "cell_type": "code",
   "execution_count": 2,
   "metadata": {},
   "outputs": [
    {
     "name": "stdout",
     "output_type": "stream",
     "text": [
      "[ 1.          0.93333333  1.          1.          0.86666667  0.93333333\n",
      "  0.93333333  1.          1.          1.        ]\n"
     ]
    }
   ],
   "source": [
    "#!/usr/bin/env python3\n",
    "# -*- coding: utf-8 -*-\n",
    "\n",
    "'a simple cross valiation'\n",
    "__author__ = 'xuchao'\n",
    "\n",
    "from sklearn.datasets import load_iris   # load data\n",
    "from sklearn.model_selection import train_test_split  # split the data to train data and test data\n",
    "from sklearn.neighbors import  KNeighborsClassifier   # use the knn to trin the data\n",
    "from sklearn.model_selection  import cross_val_score  # this the cross valiation\n",
    "# 1 prepare data\n",
    "iris = load_iris()\n",
    "X = iris.data\n",
    "y = iris.target\n",
    "# X_train, X_test, y_train, y_test = train_test_split(X, y, test_size=0.33, random_state=4)  # split the data\n",
    "knn = KNeighborsClassifier(n_neighbors=5)  # 分成了五类\n",
    "scores = cross_val_score(knn, X, y, cv=10, scoring='accuracy')  # 进行K折交叉验证,cv为交叉验证的次数,\n",
    "print(scores)\n"
   ]
  },
  {
   "cell_type": "markdown",
   "metadata": {},
   "source": [
    "### 2.2 sklearn的K折交叉验证选择可视化"
   ]
  },
  {
   "cell_type": "code",
   "execution_count": 3,
   "metadata": {},
   "outputs": [
    {
     "data": {
      "image/png": "[encoded data removed]",
      "text/plain": [
       "<matplotlib.figure.Figure at 0x7f7ce618f0f0>"
      ]
     },
     "metadata": {},
     "output_type": "display_data"
    }
   ],
   "source": [
    "#!/usr/bin/env python3\n",
    "# -*- coding: utf-8 -*-\n",
    "\n",
    "'a simple cross valiation'\n",
    "__author__ = 'xuchao'\n",
    "\n",
    "from sklearn.datasets import load_iris   # load data\n",
    "from sklearn.model_selection import train_test_split  # split the data to train data and test data\n",
    "from sklearn.neighbors import  KNeighborsClassifier   # use the knn to trin the data\n",
    "from sklearn.model_selection  import cross_val_score  # this the cross valiation\n",
    "import matplotlib.pyplot as plt\n",
    "import numpy as np\n",
    "# 1 prepare data\n",
    "iris = load_iris()\n",
    "X = iris.data\n",
    "y = iris.target\n",
    "# 2 train the mode\n",
    "echos = np.arange(1, 31)\n",
    "result = []\n",
    "for i in echos:\n",
    "    knn = KNeighborsClassifier(n_neighbors=i)  # 分成了i类\n",
    "    scores = cross_val_score(knn, X, y, cv=10, scoring='accuracy')  # 进行K=10折交叉验证,cv为交叉验证的次数,分类是按照accuracy来的\n",
    "    result.append(scores.mean())\n",
    "# 3 visual the figure\n",
    "plt.figure()\n",
    "plt.title('K cross valiation')\n",
    "plt.xlabel('echos')\n",
    "plt.ylabel('accuracy')\n",
    "plt.plot(echos, result, 'b')\n",
    "plt.show()"
   ]
  },
  {
   "cell_type": "markdown",
   "metadata": {},
   "source": [
    "### 何为K折交叉验证?\n",
    "- 在机器学习中，将数据集A 分为训练集（training set）B和测试集（testset）C，在样本量不充足的情况下，为了充分利用数据集对算法效果进行测试，将数据集A随机分为k个包，每次将其中一个包作为测试集，剩下k-1个包作为训练集进行训练。"
   ]
  },
  {
   "cell_type": "markdown",
   "metadata": {
    "collapsed": true
   },
   "source": [
    "### 3.1 学习曲线"
   ]
  },
  {
   "cell_type": "code",
   "execution_count": 4,
   "metadata": {},
   "outputs": [
    {
     "data": {
      "image/png": "[encoded data removed]",
      "text/plain": [
       "<matplotlib.figure.Figure at 0x7f7d0d0c9898>"
      ]
     },
     "metadata": {},
     "output_type": "display_data"
    }
   ],
   "source": [
    "#!/usr/bin/env python3\n",
    "# -*- coding: utf-8 -*-\n",
    "\n",
    "'learning curve'\n",
    "__author__ = 'xuchao'\n",
    "\n",
    "from sklearn.datasets import load_digits   # load data\n",
    "from sklearn.svm import SVC    #  use the svc to discriminate the digits datasets\n",
    "from sklearn.model_selection import learning_curve  # learning the curve on the different size of data\n",
    "import matplotlib.pyplot as plt\n",
    "import numpy as np\n",
    "# 1 prepare data\n",
    "digits = load_digits()\n",
    "X = digits.data\n",
    "y = digits.target\n",
    "# 2 train the mode\n",
    "train_sizes, train_loss, test_loss = learning_curve(SVC(gamma=0.01), X, y, cv=10, scoring='neg_mean_squared_error', train_sizes=np.linspace(0.1, 1.0, 5))  # 这里train_sizes是关键,表示每一步使用整体数据的10%等部分数据进行train\n",
    "# 3 visual the figure\n",
    "train_loss_mean = - np.mean(train_loss, axis=1)  # 这里的损失都是负的,为了显示的好处我们加上-号\n",
    "test_loss_mean = - np.mean(test_loss, axis=1)   # 这里是二维数据,横的是%数据,列是第k折数据,所以我们需要对每一行求平均\n",
    "# 4 visual the data\n",
    "plt.figure()\n",
    "plt.plot(train_sizes, train_loss_mean, 'o-', color=\"r\", label=\"train loss\") # 这里注意一下需要使用'o-'才可以显示点和线\n",
    "plt.plot(train_sizes, test_loss_mean, 'o-', color=\"b\", label=\"cross valiation\")\n",
    "plt.legend(loc='best')  # 显示图例\n",
    "plt.xlabel('train sizes')\n",
    "plt.ylabel('loss')\n",
    "plt.show()\n"
   ]
  },
  {
   "cell_type": "markdown",
   "metadata": {},
   "source": [
    "- 从上面我们可以看到learn_curve是可以将数据分成百分比的,训练误差一直是0,验证误差一直减少,所以我们是可以增加数据量减少过拟合.学习曲线可以帮助我们观察过拟合的情况"
   ]
  },
  {
   "cell_type": "markdown",
   "metadata": {},
   "source": [
    "### 3.2 利用validation_curve学习不同的参数控制过拟合"
   ]
  },
  {
   "cell_type": "code",
   "execution_count": 5,
   "metadata": {},
   "outputs": [
    {
     "data": {
      "image/png": "[encoded data removed]",
      "text/plain": [
       "<matplotlib.figure.Figure at 0x7f7cdcb654e0>"
      ]
     },
     "metadata": {},
     "output_type": "display_data"
    }
   ],
   "source": [
    "#!/usr/bin/env python3\n",
    "# -*- coding: utf-8 -*-\n",
    "\n",
    "'learning curve'\n",
    "__author__ = 'xuchao'\n",
    "\n",
    "from sklearn.datasets import load_digits   # load data\n",
    "from sklearn.svm import SVC    #  use the svc to discriminate the digits datasets\n",
    "from sklearn.model_selection import validation_curve  # learning the curve on the different size of data\n",
    "import matplotlib.pyplot as plt\n",
    "import numpy as np\n",
    "# 1 prepare data\n",
    "digits = load_digits()\n",
    "X = digits.data\n",
    "y = digits.target\n",
    "# 2 train the mode\n",
    "param_range = param_range = np.logspace(-6, -2.3, 5)\n",
    "train_loss, test_loss = validation_curve(SVC(), X, y, param_name='gamma', param_range=param_range, cv=10, scoring='neg_mean_squared_error')\n",
    "# 这里需要注意validation_curve中的参数param_name=需要是estimator里面的形参,而不是任意一个数, param_range是需要进行测试的参数列表\n",
    "# 3 visual the figure\n",
    "train_loss_mean = - np.mean(train_loss, axis=1)  # 这里的损失都是负的,为了显示的好处我们加上-号\n",
    "test_loss_mean = - np.mean(test_loss, axis=1)   # 这里是二维数据,横的是%数据,列是第k折数据,所以我们需要对每一行求平均\n",
    "# 4 visual the data\n",
    "plt.figure()\n",
    "plt.plot(param_range, train_loss_mean, 'o-', color=\"r\", label=\"train loss\") # 这里注意一下需要使用'o-'才可以显示点和线\n",
    "plt.plot(param_range, test_loss_mean, 'o-', color=\"b\", label=\"cross valiation\")\n",
    "plt.legend(loc='best')  # 显示图例\n",
    "plt.xlabel('train sizes')\n",
    "plt.ylabel('loss')\n",
    "plt.show()"
   ]
  },
  {
   "cell_type": "markdown",
   "metadata": {},
   "source": [
    "- 从上图我们可以看出了当在0.001之后,训练集误差为0,但是验证集误差在不断上升,表示这个时候已经出现了过拟合的现象了."
   ]
  },
  {
   "cell_type": "code",
   "execution_count": null,
   "metadata": {
    "collapsed": true
   },
   "outputs": [],
   "source": []
  }
 ],
 "metadata": {
  "kernelspec": {
   "display_name": "Python 3",
   "language": "python",
   "name": "python3"
  },
  "language_info": {
   "codemirror_mode": {
    "name": "ipython",
    "version": 3
   },
   "file_extension": ".py",
   "mimetype": "text/x-python",
   "name": "python",
   "nbconvert_exporter": "python",
   "pygments_lexer": "ipython3",
   "version": "3.6.3"
  }
 },
 "nbformat": 4,
 "nbformat_minor": 2
}
