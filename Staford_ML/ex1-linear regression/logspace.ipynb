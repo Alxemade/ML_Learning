{
 "cells": [
  {
   "cell_type": "markdown",
   "metadata": {
    "collapsed": true
   },
   "source": [
    "# logspace 用于创建等比数列"
   ]
  },
  {
   "cell_type": "code",
   "execution_count": 2,
   "metadata": {},
   "outputs": [
    {
     "name": "stdout",
     "output_type": "stream",
     "text": [
      "[ 1.  1.  1.  1.  1.  1.  1.  1.  1.  1.]\n"
     ]
    }
   ],
   "source": [
    "import numpy as np\n",
    "a = np.logspace(0,0,10)  # 创建一个等比数列，起始点是0，终止是0，总共10个数，但是幂是10\n",
    "print(a)"
   ]
  },
  {
   "cell_type": "code",
   "execution_count": 3,
   "metadata": {},
   "outputs": [
    {
     "name": "stdout",
     "output_type": "stream",
     "text": [
      "[  1.00000000e+00   1.00000000e+01   1.00000000e+02   1.00000000e+03\n",
      "   1.00000000e+04   1.00000000e+05   1.00000000e+06   1.00000000e+07\n",
      "   1.00000000e+08   1.00000000e+09]\n"
     ]
    }
   ],
   "source": [
    "a = np.logspace(0,9,10)\n",
    "print(a)"
   ]
  },
  {
   "cell_type": "markdown",
   "metadata": {},
   "source": [
    "## 如果想要改变基底,base = 2"
   ]
  },
  {
   "cell_type": "code",
   "execution_count": 4,
   "metadata": {},
   "outputs": [
    {
     "name": "stdout",
     "output_type": "stream",
     "text": [
      "[   1.    2.    4.    8.   16.   32.   64.  128.  256.  512.]\n"
     ]
    }
   ],
   "source": [
    "a = np.logspace(0,9,10,base=2)\n",
    "print(a)"
   ]
  },
  {
   "cell_type": "markdown",
   "metadata": {},
   "source": [
    "# 2 numpy.concatenate简单使用"
   ]
  },
  {
   "cell_type": "markdown",
   "metadata": {},
   "source": [
    "###  numpy.concatenate((a1, a2, ...), axis=0, out=None)\n",
    "### Parameters:\t\n",
    "### a1, a2, ... : sequence of array_like\n",
    "\n",
    "#### The arrays must have the same shape, except in the dimension corresponding to axis (the first, by default).\n",
    "\n",
    "### axis : int, optional ，The axis along which the arrays will be joined. Default is 0.\n",
    "\n",
    "### out : ndarray, optional\n",
    "\n",
    "#### If provided, the destination to place the result. The shape must be correct, matching that of what concatenate would have returned if no out argument were specified.\n",
    "\n",
    "#### Returns:\t res : ndarray\n",
    "\n"
   ]
  },
  {
   "cell_type": "code",
   "execution_count": 5,
   "metadata": {},
   "outputs": [
    {
     "data": {
      "text/plain": [
       "array([[1, 2],\n",
       "       [3, 4],\n",
       "       [5, 6]])"
      ]
     },
     "execution_count": 5,
     "metadata": {},
     "output_type": "execute_result"
    }
   ],
   "source": [
    "a = np.array([[1, 2], [3, 4]]) \n",
    "b = np.array([[5, 6]])\n",
    "np.concatenate((a, b), axis=0)  # 这里的axis=0的表示按照行进行合并"
   ]
  },
  {
   "cell_type": "code",
   "execution_count": 11,
   "metadata": {},
   "outputs": [
    {
     "data": {
      "text/plain": [
       "array([[1, 2, 5],\n",
       "       [3, 4, 6]])"
      ]
     },
     "execution_count": 11,
     "metadata": {},
     "output_type": "execute_result"
    }
   ],
   "source": [
    "a = np.array([[1, 2], [3, 4]]) \n",
    "b = np.array([[5, 6]])\n",
    "np.concatenate((a, b.T), axis=1)  # 这里的axis=1的表示按照列进行合并"
   ]
  },
  {
   "cell_type": "code",
   "execution_count": null,
   "metadata": {
    "collapsed": true
   },
   "outputs": [],
   "source": []
  }
 ],
 "metadata": {
  "kernelspec": {
   "display_name": "Python 3",
   "language": "python",
   "name": "python3"
  },
  "language_info": {
   "codemirror_mode": {
    "name": "ipython",
    "version": 3
   },
   "file_extension": ".py",
   "mimetype": "text/x-python",
   "name": "python",
   "nbconvert_exporter": "python",
   "pygments_lexer": "ipython3",
   "version": "3.6.3"
  }
 },
 "nbformat": 4,
 "nbformat_minor": 2
}
