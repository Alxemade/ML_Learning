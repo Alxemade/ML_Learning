{
 "cells": [
  {
   "cell_type": "markdown",
   "metadata": {},
   "source": [
    "[参考文章](https://morvanzhou.github.io/tutorials/python-basic/basic/06-1-global-local/)"
   ]
  },
  {
   "cell_type": "markdown",
   "metadata": {},
   "source": [
    "-  在def中,我们可以定义一个局部变量,该变量仅仅在函数体中有生存期,出了这个函数体,变量就不能使用了"
   ]
  },
  {
   "cell_type": "code",
   "execution_count": 1,
   "metadata": {},
   "outputs": [
    {
     "name": "stdout",
     "output_type": "stream",
     "text": [
      "10\n",
      "110\n"
     ]
    }
   ],
   "source": [
    "def fun():\n",
    "    a = 10\n",
    "    print(a)\n",
    "    return a + 100\n",
    "print(fun())"
   ]
  },
  {
   "cell_type": "code",
   "execution_count": 4,
   "metadata": {},
   "outputs": [
    {
     "name": "stdout",
     "output_type": "stream",
     "text": [
      "100\n"
     ]
    }
   ],
   "source": [
    "APPLY = 100 # 全局变量\n",
    "def fun():\n",
    "    a = 10 # 局部变量\n",
    "    return a + 100\n",
    "print(APPLY)  # 可以正常输出全局变量的值\n",
    "#print(a)  # 出现错误: name 'a' is not defined 试图在函数体外获取一个局部变量的值不行\n"
   ]
  },
  {
   "cell_type": "code",
   "execution_count": 8,
   "metadata": {},
   "outputs": [
    {
     "name": "stdout",
     "output_type": "stream",
     "text": [
      "None\n",
      "20\n"
     ]
    }
   ],
   "source": [
    "a = None\n",
    "def fun():\n",
    "    global a   # 不能直接对global a = 20 直接赋值,相当于在函数定义的时候进行赋值,但是此时变量还没有初始化,未开辟内存?所以需要分开来写\n",
    "    a = 20\n",
    "print(a) # None\n",
    "fun()  # 调用fun使用全局变量a\n",
    "print(a)  # 进行了修改了 20"
   ]
  },
  {
   "cell_type": "markdown",
   "metadata": {},
   "source": [
    "[为什么在python函数定义中不能给全局变量赋值?](https://www.douban.com/note/603963620/)"
   ]
  },
  {
   "cell_type": "code",
   "execution_count": null,
   "metadata": {
    "collapsed": true
   },
   "outputs": [],
   "source": []
  }
 ],
 "metadata": {
  "kernelspec": {
   "display_name": "Python 3",
   "language": "python",
   "name": "python3"
  },
  "language_info": {
   "codemirror_mode": {
    "name": "ipython",
    "version": 3
   },
   "file_extension": ".py",
   "mimetype": "text/x-python",
   "name": "python",
   "nbconvert_exporter": "python",
   "pygments_lexer": "ipython3",
   "version": "3.6.3"
  }
 },
 "nbformat": 4,
 "nbformat_minor": 2
}
