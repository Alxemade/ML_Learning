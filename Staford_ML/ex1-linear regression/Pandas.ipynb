{
 "cells": [
  {
   "cell_type": "markdown",
   "metadata": {},
   "source": [
    "# Pandas\n"
   ]
  },
  {
   "cell_type": "markdown",
   "metadata": {},
   "source": [
    "### 由于Python本身的限制，当数据太大的时候，而无法一次载入内存，需要进行分块导入，并对查询做出相应的修改"
   ]
  },
  {
   "cell_type": "code",
   "execution_count": 16,
   "metadata": {},
   "outputs": [
    {
     "name": "stdout",
     "output_type": "stream",
     "text": [
      "                   A         B         C         D\n",
      "2012-12-01  1.167517 -0.814091 -0.908612 -0.599967\n",
      "2012-12-02 -0.767541  0.072700  0.985450 -1.838382\n",
      "2012-12-03 -1.078247 -0.413168 -1.899446 -0.150623\n",
      "2012-12-04 -0.974840  0.114777  0.952938  2.034717\n",
      "2012-12-05 -0.689099 -1.102233  0.227212  1.241322\n",
      "2012-12-06 -0.288585  1.363764  0.230803 -1.884838\n"
     ]
    }
   ],
   "source": [
    "import pandas as pd   # 导入pandas\n",
    "import numpy as np    # 导入numpy\n",
    "import matplotlib.pyplot as plt\n",
    "\n",
    "dates = pd.date_range('20121201', periods=6)  # 这里的data_range函数第一个参数是起始点，注意类型是Timestamp，第二个是重复的行数\n",
    "df = pd.DataFrame(np.random.randn(6,4), index=dates, columns=list('ABCD'))  # DataFrame创建6*4数据，索引是上面创建的日期，列是ABCD\n",
    "print(df)"
   ]
  },
  {
   "cell_type": "markdown",
   "metadata": {},
   "source": [
    "### 1.1 选择行的操作"
   ]
  },
  {
   "cell_type": "code",
   "execution_count": 17,
   "metadata": {},
   "outputs": [
    {
     "name": "stdout",
     "output_type": "stream",
     "text": [
      "                   A         B         C         D\n",
      "2012-12-01  1.167517 -0.814091 -0.908612 -0.599967\n",
      "2012-12-02 -0.767541  0.072700  0.985450 -1.838382\n",
      "2012-12-03 -1.078247 -0.413168 -1.899446 -0.150623\n"
     ]
    }
   ],
   "source": [
    "rows = df[0:3]\n",
    "print(rows)"
   ]
  },
  {
   "cell_type": "markdown",
   "metadata": {},
   "source": [
    "### 1.2 选择列"
   ]
  },
  {
   "cell_type": "code",
   "execution_count": 18,
   "metadata": {},
   "outputs": [
    {
     "name": "stdout",
     "output_type": "stream",
     "text": [
      "                   A         B         C\n",
      "2012-12-01  1.167517 -0.814091 -0.908612\n",
      "2012-12-02 -0.767541  0.072700  0.985450\n",
      "2012-12-03 -1.078247 -0.413168 -1.899446\n",
      "2012-12-04 -0.974840  0.114777  0.952938\n",
      "2012-12-05 -0.689099 -1.102233  0.227212\n",
      "2012-12-06 -0.288585  1.363764  0.230803\n"
     ]
    }
   ],
   "source": [
    "cols = df[['A', 'B', 'C']]  # 注意这里需要使用二个括号，表示是对列进行操作\n",
    "print(cols)"
   ]
  },
  {
   "cell_type": "markdown",
   "metadata": {},
   "source": [
    "### 1.3 块的选取，也就是选择行和列组成的数据快"
   ]
  },
  {
   "cell_type": "markdown",
   "metadata": {
    "collapsed": true
   },
   "source": [
    "## 2 Pandas的基本数据有二种，Series和Dataframe。Series创建行，也就是一维数组。  Dataframe用来创建块，或者成为矩阵，表格"
   ]
  },
  {
   "cell_type": "markdown",
   "metadata": {},
   "source": [
    "### 2.1 Series操作"
   ]
  },
  {
   "cell_type": "code",
   "execution_count": 21,
   "metadata": {},
   "outputs": [
    {
     "name": "stdout",
     "output_type": "stream",
     "text": [
      "0    1\n",
      "1    2\n",
      "2    3\n",
      "3    4\n",
      "dtype: int64\n"
     ]
    }
   ],
   "source": [
    "s = pd.Series([1,2,3,4])\n",
    "print(s)"
   ]
  },
  {
   "cell_type": "markdown",
   "metadata": {},
   "source": [
    "### 2.2 DataFrame"
   ]
  },
  {
   "cell_type": "code",
   "execution_count": 22,
   "metadata": {},
   "outputs": [
    {
     "name": "stdout",
     "output_type": "stream",
     "text": [
      "          A         B         C         D\n",
      "0 -1.111716  0.578287  0.291150  2.772376\n",
      "1  0.294625  0.604119  1.734876  0.536791\n",
      "2 -1.189435  0.333981 -0.736817  1.389384\n",
      "3  0.574928 -0.690981  0.183701 -0.533079\n",
      "4 -0.130175  2.872291 -0.850990 -0.486310\n",
      "5  0.685324  1.059945 -1.293387 -1.039724\n"
     ]
    }
   ],
   "source": [
    "s = pd.DataFrame(np.random.randn(6,4),columns=list('ABCD'))\n",
    "print(s)"
   ]
  },
  {
   "cell_type": "code",
   "execution_count": 24,
   "metadata": {},
   "outputs": [
    {
     "name": "stdout",
     "output_type": "stream",
     "text": [
      "RangeIndex(start=0, stop=6, step=1)\n"
     ]
    }
   ],
   "source": [
    "print(s.index)"
   ]
  },
  {
   "cell_type": "code",
   "execution_count": 32,
   "metadata": {},
   "outputs": [
    {
     "name": "stdout",
     "output_type": "stream",
     "text": [
      "                   A         B         C         D     sumAB        10A\n",
      "2012-12-01  1.167517 -0.814091 -0.908612 -0.599967  0.353426  11.675168\n",
      "2012-12-02 -0.767541  0.072700  0.985450 -1.838382 -0.694840  -7.675406\n",
      "2012-12-03 -1.078247 -0.413168 -1.899446 -0.150623 -1.491414 -10.782469\n",
      "2012-12-04 -0.974840  0.114777  0.952938  2.034717 -0.860063  -9.748398\n",
      "2012-12-05 -0.689099 -1.102233  0.227212  1.241322 -1.791332  -6.890987\n",
      "2012-12-06 -0.288585  1.363764  0.230803 -1.884838  1.075178  -2.885852\n"
     ]
    }
   ],
   "source": [
    "df['sumAB'] = pd.Series(df['A']+df['B'],index=df.index)  # 这个表示A+B列加在一起赋值给sumAB, index必须是一样的\n",
    "df['10A'] = pd.Series(df['A']*10,index=df.index)  # A*10\n",
    "print(df)"
   ]
  },
  {
   "cell_type": "markdown",
   "metadata": {},
   "source": [
    "## 2.3 根据条件过滤行"
   ]
  },
  {
   "cell_type": "code",
   "execution_count": 33,
   "metadata": {},
   "outputs": [
    {
     "name": "stdout",
     "output_type": "stream",
     "text": [
      "                   A         B         C         D     sumAB        10A\n",
      "2012-12-01  1.167517 -0.814091 -0.908612 -0.599967  0.353426  11.675168\n",
      "2012-12-02 -0.767541  0.072700  0.985450 -1.838382 -0.694840  -7.675406\n",
      "2012-12-03 -1.078247 -0.413168 -1.899446 -0.150623 -1.491414 -10.782469\n"
     ]
    }
   ],
   "source": [
    "s1 = df[(df.index>='20121201')&(df.index<='20121203')]  # 这个根据行的索引输出数据\n",
    "print(s1)"
   ]
  },
  {
   "cell_type": "code",
   "execution_count": 34,
   "metadata": {},
   "outputs": [
    {
     "name": "stdout",
     "output_type": "stream",
     "text": [
      "                   A         B         C         D     sumAB        10A\n",
      "2012-12-01  1.167517 -0.814091 -0.908612 -0.599967  0.353426  11.675168\n"
     ]
    }
   ],
   "source": [
    "s2 = df[df['A']>0]   # 这是根据某一列的属性输出相关行的操作\n",
    "print(s2)"
   ]
  },
  {
   "cell_type": "markdown",
   "metadata": {},
   "source": [
    "## 2.4 窥视数据"
   ]
  },
  {
   "cell_type": "code",
   "execution_count": 35,
   "metadata": {},
   "outputs": [
    {
     "data": {
      "text/html": [
       "<div>\n",
       "<style>\n",
       "    .dataframe thead tr:only-child th {\n",
       "        text-align: right;\n",
       "    }\n",
       "\n",
       "    .dataframe thead th {\n",
       "        text-align: left;\n",
       "    }\n",
       "\n",
       "    .dataframe tbody tr th {\n",
       "        vertical-align: top;\n",
       "    }\n",
       "</style>\n",
       "<table border=\"1\" class=\"dataframe\">\n",
       "  <thead>\n",
       "    <tr style=\"text-align: right;\">\n",
       "      <th></th>\n",
       "      <th>A</th>\n",
       "      <th>B</th>\n",
       "      <th>C</th>\n",
       "      <th>D</th>\n",
       "      <th>sumAB</th>\n",
       "      <th>10A</th>\n",
       "    </tr>\n",
       "  </thead>\n",
       "  <tbody>\n",
       "    <tr>\n",
       "      <th>2012-12-01</th>\n",
       "      <td>1.167517</td>\n",
       "      <td>-0.814091</td>\n",
       "      <td>-0.908612</td>\n",
       "      <td>-0.599967</td>\n",
       "      <td>0.353426</td>\n",
       "      <td>11.675168</td>\n",
       "    </tr>\n",
       "    <tr>\n",
       "      <th>2012-12-02</th>\n",
       "      <td>-0.767541</td>\n",
       "      <td>0.072700</td>\n",
       "      <td>0.985450</td>\n",
       "      <td>-1.838382</td>\n",
       "      <td>-0.694840</td>\n",
       "      <td>-7.675406</td>\n",
       "    </tr>\n",
       "    <tr>\n",
       "      <th>2012-12-03</th>\n",
       "      <td>-1.078247</td>\n",
       "      <td>-0.413168</td>\n",
       "      <td>-1.899446</td>\n",
       "      <td>-0.150623</td>\n",
       "      <td>-1.491414</td>\n",
       "      <td>-10.782469</td>\n",
       "    </tr>\n",
       "    <tr>\n",
       "      <th>2012-12-04</th>\n",
       "      <td>-0.974840</td>\n",
       "      <td>0.114777</td>\n",
       "      <td>0.952938</td>\n",
       "      <td>2.034717</td>\n",
       "      <td>-0.860063</td>\n",
       "      <td>-9.748398</td>\n",
       "    </tr>\n",
       "    <tr>\n",
       "      <th>2012-12-05</th>\n",
       "      <td>-0.689099</td>\n",
       "      <td>-1.102233</td>\n",
       "      <td>0.227212</td>\n",
       "      <td>1.241322</td>\n",
       "      <td>-1.791332</td>\n",
       "      <td>-6.890987</td>\n",
       "    </tr>\n",
       "  </tbody>\n",
       "</table>\n",
       "</div>"
      ],
      "text/plain": [
       "                   A         B         C         D     sumAB        10A\n",
       "2012-12-01  1.167517 -0.814091 -0.908612 -0.599967  0.353426  11.675168\n",
       "2012-12-02 -0.767541  0.072700  0.985450 -1.838382 -0.694840  -7.675406\n",
       "2012-12-03 -1.078247 -0.413168 -1.899446 -0.150623 -1.491414 -10.782469\n",
       "2012-12-04 -0.974840  0.114777  0.952938  2.034717 -0.860063  -9.748398\n",
       "2012-12-05 -0.689099 -1.102233  0.227212  1.241322 -1.791332  -6.890987"
      ]
     },
     "execution_count": 35,
     "metadata": {},
     "output_type": "execute_result"
    }
   ],
   "source": [
    "df.head(5)  # 输出表格的前五行"
   ]
  },
  {
   "cell_type": "code",
   "execution_count": 37,
   "metadata": {},
   "outputs": [
    {
     "data": {
      "text/html": [
       "<div>\n",
       "<style>\n",
       "    .dataframe thead tr:only-child th {\n",
       "        text-align: right;\n",
       "    }\n",
       "\n",
       "    .dataframe thead th {\n",
       "        text-align: left;\n",
       "    }\n",
       "\n",
       "    .dataframe tbody tr th {\n",
       "        vertical-align: top;\n",
       "    }\n",
       "</style>\n",
       "<table border=\"1\" class=\"dataframe\">\n",
       "  <thead>\n",
       "    <tr style=\"text-align: right;\">\n",
       "      <th></th>\n",
       "      <th>A</th>\n",
       "      <th>B</th>\n",
       "      <th>C</th>\n",
       "      <th>D</th>\n",
       "      <th>sumAB</th>\n",
       "      <th>10A</th>\n",
       "    </tr>\n",
       "  </thead>\n",
       "  <tbody>\n",
       "    <tr>\n",
       "      <th>2012-12-02</th>\n",
       "      <td>-0.767541</td>\n",
       "      <td>0.072700</td>\n",
       "      <td>0.985450</td>\n",
       "      <td>-1.838382</td>\n",
       "      <td>-0.694840</td>\n",
       "      <td>-7.675406</td>\n",
       "    </tr>\n",
       "    <tr>\n",
       "      <th>2012-12-03</th>\n",
       "      <td>-1.078247</td>\n",
       "      <td>-0.413168</td>\n",
       "      <td>-1.899446</td>\n",
       "      <td>-0.150623</td>\n",
       "      <td>-1.491414</td>\n",
       "      <td>-10.782469</td>\n",
       "    </tr>\n",
       "    <tr>\n",
       "      <th>2012-12-04</th>\n",
       "      <td>-0.974840</td>\n",
       "      <td>0.114777</td>\n",
       "      <td>0.952938</td>\n",
       "      <td>2.034717</td>\n",
       "      <td>-0.860063</td>\n",
       "      <td>-9.748398</td>\n",
       "    </tr>\n",
       "    <tr>\n",
       "      <th>2012-12-05</th>\n",
       "      <td>-0.689099</td>\n",
       "      <td>-1.102233</td>\n",
       "      <td>0.227212</td>\n",
       "      <td>1.241322</td>\n",
       "      <td>-1.791332</td>\n",
       "      <td>-6.890987</td>\n",
       "    </tr>\n",
       "    <tr>\n",
       "      <th>2012-12-06</th>\n",
       "      <td>-0.288585</td>\n",
       "      <td>1.363764</td>\n",
       "      <td>0.230803</td>\n",
       "      <td>-1.884838</td>\n",
       "      <td>1.075178</td>\n",
       "      <td>-2.885852</td>\n",
       "    </tr>\n",
       "  </tbody>\n",
       "</table>\n",
       "</div>"
      ],
      "text/plain": [
       "                   A         B         C         D     sumAB        10A\n",
       "2012-12-02 -0.767541  0.072700  0.985450 -1.838382 -0.694840  -7.675406\n",
       "2012-12-03 -1.078247 -0.413168 -1.899446 -0.150623 -1.491414 -10.782469\n",
       "2012-12-04 -0.974840  0.114777  0.952938  2.034717 -0.860063  -9.748398\n",
       "2012-12-05 -0.689099 -1.102233  0.227212  1.241322 -1.791332  -6.890987\n",
       "2012-12-06 -0.288585  1.363764  0.230803 -1.884838  1.075178  -2.885852"
      ]
     },
     "execution_count": 37,
     "metadata": {},
     "output_type": "execute_result"
    }
   ],
   "source": [
    "df.tail(5)  # 输出表格的最后五行"
   ]
  },
  {
   "cell_type": "code",
   "execution_count": 38,
   "metadata": {},
   "outputs": [
    {
     "data": {
      "text/plain": [
       "Index(['A', 'B', 'C', 'D', 'sumAB', '10A'], dtype='object')"
      ]
     },
     "execution_count": 38,
     "metadata": {},
     "output_type": "execute_result"
    }
   ],
   "source": [
    "df.columns    # 输出表格列的名字"
   ]
  },
  {
   "cell_type": "code",
   "execution_count": 39,
   "metadata": {},
   "outputs": [
    {
     "data": {
      "text/plain": [
       "array([[  1.16751676,  -0.81409105,  -0.90861201,  -0.59996719,\n",
       "          0.35342571,  11.6751676 ],\n",
       "       [ -0.76754063,   0.07270018,   0.98545024,  -1.83838166,\n",
       "         -0.69484045,  -7.67540633],\n",
       "       [ -1.07824687,  -0.41316755,  -1.89944615,  -0.15062331,\n",
       "         -1.49141442, -10.78246866],\n",
       "       [ -0.97483975,   0.11477693,   0.95293849,   2.03471652,\n",
       "         -0.86006282,  -9.74839753],\n",
       "       [ -0.68909873,  -1.10223307,   0.22721154,   1.24132162,\n",
       "         -1.7913318 ,  -6.89098733],\n",
       "       [ -0.2885852 ,   1.3637637 ,   0.23080346,  -1.88483769,\n",
       "          1.0751785 ,  -2.88585202]])"
      ]
     },
     "execution_count": 39,
     "metadata": {},
     "output_type": "execute_result"
    }
   ],
   "source": [
    "df.values # 包括平均值，标准差，最大最小值"
   ]
  },
  {
   "cell_type": "code",
   "execution_count": 40,
   "metadata": {},
   "outputs": [
    {
     "data": {
      "text/html": [
       "<div>\n",
       "<style>\n",
       "    .dataframe thead tr:only-child th {\n",
       "        text-align: right;\n",
       "    }\n",
       "\n",
       "    .dataframe thead th {\n",
       "        text-align: left;\n",
       "    }\n",
       "\n",
       "    .dataframe tbody tr th {\n",
       "        vertical-align: top;\n",
       "    }\n",
       "</style>\n",
       "<table border=\"1\" class=\"dataframe\">\n",
       "  <thead>\n",
       "    <tr style=\"text-align: right;\">\n",
       "      <th></th>\n",
       "      <th>A</th>\n",
       "      <th>B</th>\n",
       "      <th>C</th>\n",
       "      <th>D</th>\n",
       "      <th>sumAB</th>\n",
       "      <th>10A</th>\n",
       "    </tr>\n",
       "  </thead>\n",
       "  <tbody>\n",
       "    <tr>\n",
       "      <th>2012-12-03</th>\n",
       "      <td>-1.078247</td>\n",
       "      <td>-0.413168</td>\n",
       "      <td>-1.899446</td>\n",
       "      <td>-0.150623</td>\n",
       "      <td>-1.491414</td>\n",
       "      <td>-10.782469</td>\n",
       "    </tr>\n",
       "    <tr>\n",
       "      <th>2012-12-04</th>\n",
       "      <td>-0.974840</td>\n",
       "      <td>0.114777</td>\n",
       "      <td>0.952938</td>\n",
       "      <td>2.034717</td>\n",
       "      <td>-0.860063</td>\n",
       "      <td>-9.748398</td>\n",
       "    </tr>\n",
       "    <tr>\n",
       "      <th>2012-12-02</th>\n",
       "      <td>-0.767541</td>\n",
       "      <td>0.072700</td>\n",
       "      <td>0.985450</td>\n",
       "      <td>-1.838382</td>\n",
       "      <td>-0.694840</td>\n",
       "      <td>-7.675406</td>\n",
       "    </tr>\n",
       "    <tr>\n",
       "      <th>2012-12-05</th>\n",
       "      <td>-0.689099</td>\n",
       "      <td>-1.102233</td>\n",
       "      <td>0.227212</td>\n",
       "      <td>1.241322</td>\n",
       "      <td>-1.791332</td>\n",
       "      <td>-6.890987</td>\n",
       "    </tr>\n",
       "    <tr>\n",
       "      <th>2012-12-06</th>\n",
       "      <td>-0.288585</td>\n",
       "      <td>1.363764</td>\n",
       "      <td>0.230803</td>\n",
       "      <td>-1.884838</td>\n",
       "      <td>1.075178</td>\n",
       "      <td>-2.885852</td>\n",
       "    </tr>\n",
       "    <tr>\n",
       "      <th>2012-12-01</th>\n",
       "      <td>1.167517</td>\n",
       "      <td>-0.814091</td>\n",
       "      <td>-0.908612</td>\n",
       "      <td>-0.599967</td>\n",
       "      <td>0.353426</td>\n",
       "      <td>11.675168</td>\n",
       "    </tr>\n",
       "  </tbody>\n",
       "</table>\n",
       "</div>"
      ],
      "text/plain": [
       "                   A         B         C         D     sumAB        10A\n",
       "2012-12-03 -1.078247 -0.413168 -1.899446 -0.150623 -1.491414 -10.782469\n",
       "2012-12-04 -0.974840  0.114777  0.952938  2.034717 -0.860063  -9.748398\n",
       "2012-12-02 -0.767541  0.072700  0.985450 -1.838382 -0.694840  -7.675406\n",
       "2012-12-05 -0.689099 -1.102233  0.227212  1.241322 -1.791332  -6.890987\n",
       "2012-12-06 -0.288585  1.363764  0.230803 -1.884838  1.075178  -2.885852\n",
       "2012-12-01  1.167517 -0.814091 -0.908612 -0.599967  0.353426  11.675168"
      ]
     },
     "execution_count": 40,
     "metadata": {},
     "output_type": "execute_result"
    }
   ],
   "source": [
    "df.sort_values(by='A')  #按照A进行升序排列"
   ]
  },
  {
   "cell_type": "markdown",
   "metadata": {
    "collapsed": true
   },
   "source": [
    "## 3 作图"
   ]
  },
  {
   "cell_type": "markdown",
   "metadata": {},
   "source": [
    "### Pandas和matplotlib配合使用，几乎可以支持所有的图表形式"
   ]
  },
  {
   "cell_type": "code",
   "execution_count": 45,
   "metadata": {},
   "outputs": [
    {
     "data": {
      "text/plain": [
       "<matplotlib.axes._subplots.AxesSubplot at 0x7f54c76043c8>"
      ]
     },
     "execution_count": 45,
     "metadata": {},
     "output_type": "execute_result"
    },
    {
     "data": {
      "image/png": "[encoded data removed]",
      "text/plain": [
       "<matplotlib.figure.Figure at 0x7f54c7159550>"
      ]
     },
     "metadata": {},
     "output_type": "display_data"
    }
   ],
   "source": [
    "# 首先打开图表行内显示\n",
    "%matplotlib inline\n",
    "\n",
    "# 随机产生数字，存放在series或者DataFrame某一列\n",
    "nd = pd.Series(np.random.randn(600))\n",
    "\n",
    "# bins 表示直方图的方块数\n",
    "# range 表示图表显示范围\n",
    "nd.hist(bins=100)"
   ]
  },
  {
   "cell_type": "markdown",
   "metadata": {
    "collapsed": true
   },
   "source": [
    "### Pandas中read_csv()函数使用注意:"
   ]
  },
  {
   "cell_type": "code",
   "execution_count": null,
   "metadata": {},
   "outputs": [],
   "source": [
    "# 1 们需要读取iris_training.csv数据\n",
    "import pandas as pd\n",
    "data = pd.read_csv(\"iris_training.csv\")  # 直接读数据我们可以得到以下数据\n",
    "print(data) \n",
    "\n",
    "''' \n",
    "    120    4  setosa  versicolor  virginica\n",
    "0    6.4  2.8     5.6         2.2          2\n",
    "1    5.0  2.3     3.3         1.0          1\n",
    "2    4.9  2.5     4.5         1.7          2\n",
    "3    4.9  3.1     1.5         0.1          0\n",
    "'''\n",
    "# 但是从上面我们可以看出并不是我们想要的结果,我们想要第一行显示的特征以及标签,所以我们可以使用改进的方法:\n",
    "data = pd.read_csv(\"iris_training.csv\",names=CSV_COLUMN_NAMES) \n",
    "#但是我们可以从结果看出第一行是我们期望输出的结果,但是我们想要去掉第二行,也就是说用新的特征代替之前的\n",
    "'''\n",
    "    SepalLength  SepalWidth PetalLength  PetalWidth    Species\n",
    "0          120.0         4.0      setosa  versicolor  virginica\n",
    "1            6.4         2.8         5.6         2.2          2\n",
    "2            5.0         2.3         3.3         1.0          1\n",
    "'''\n",
    "# 可以使用下面的代码:\n",
    "data = pd.read_csv(\"iris_training.csv\",names=CSV_COLUMN_NAMES,header=0)\n",
    "'''\n",
    "    SepalLength  SepalWidth  PetalLength  PetalWidth  Species\n",
    "0            6.4         2.8          5.6         2.2        2\n",
    "1            5.0         2.3          3.3         1.0        1\n",
    "2            4.9         2.5          4.5         1.7        2\n",
    "3            4.9         3.1          1.5         0.1        0\n",
    "'''\n",
    "#这样就达到想要的结果"
   ]
  },
  {
   "cell_type": "markdown",
   "metadata": {},
   "source": [
    "### header : int or list of ints, default ‘infer’\n",
    "* 指定行数用来作为列名，数据开始行数。如果文件中没有列名，则默认为0，否则设置为None。如果明确设定header=0 就会替换掉原来存在列名。header参数可以是一个list例如：[0,1,3]，这个list表示将文件中的这些行作为列标题（意味着每一列有多个标题），介于中间的行将被忽略掉（例如本例中的2；本例中的数据1,2,4行将被作为多级标题出现，第3行数据将被丢弃，dataframe的数据从第5行开始。）。\n",
    "　注意：如果skip_blank_lines=True 那么header参数忽略注释行和空行，所以header=0表示第一行数据而不是文件的第一行。\n",
    " \n",
    "### names : array-like, default None\n",
    "*用于结果的列名列表，如果数据文件中没有列标题行，就需要执行header=None。默认列表中不能出现重复，除非设定参数mangle_dupe_cols=True。"
   ]
  },
  {
   "cell_type": "code",
   "execution_count": null,
   "metadata": {},
   "outputs": [],
   "source": []
  }
 ],
 "metadata": {
  "kernelspec": {
   "display_name": "Python 3",
   "language": "python",
   "name": "python3"
  },
  "language_info": {
   "codemirror_mode": {
    "name": "ipython",
    "version": 3
   },
   "file_extension": ".py",
   "mimetype": "text/x-python",
   "name": "python",
   "nbconvert_exporter": "python",
   "pygments_lexer": "ipython3",
   "version": "3.6.4"
  }
 },
 "nbformat": 4,
 "nbformat_minor": 2
}
