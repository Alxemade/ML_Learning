{
 "cells": [
  {
   "cell_type": "markdown",
   "metadata": {},
   "source": [
    "# pychon异常处理机制\n",
    " * [参考文章](http://www.runoob.com/python/python-exceptions.html)"
   ]
  },
  {
   "cell_type": "markdown",
   "metadata": {},
   "source": [
    "### 1 什么是异常？\n",
    "- 异常即是一个事件，该事件会在程序执行过程中发生，影响了程序的正常执行。\n",
    " 一般情况下，在Python无法正常处理程序时就会发生一个异常。\n",
    " **异常是Python对象，表示一个错误**。当Python脚本发生异常时我们需要捕获处理它，否则程序会终止执行。"
   ]
  },
  {
   "cell_type": "markdown",
   "metadata": {},
   "source": [
    "### 2 异常处理\n",
    "- 捕捉异常可以使用**try/except**语句。\n",
    "- try/except语句用来检测try语句块中的错误，从而让except语句捕获异常信息并处理。如果你不想在异常发生时结束你的程序，只需在try里捕获它。\n",
    "\n",
    "- 语法：以下为简单的try....except...else的语法：\n",
    "\n",
    "\n",
    "`\n",
    "try:\n",
    "<语句>        #运行别的代码\n",
    "except <名字>：\n",
    "<语句>         #如果在try部份引发了'name'异常\n",
    "except <名字>，<数据>:\n",
    "<语句>        #如果引发了'name'异常，获得附加的数据\n",
    "else:\n",
    "<语句>        #如果没有异常发生\n",
    "`"
   ]
  },
  {
   "cell_type": "markdown",
   "metadata": {},
   "source": [
    "### try的工作原理是:\n",
    "\n",
    "- 当开始一个try语句后，python就在当前程序的上下文中作标记，这样当异常出现时就可以回到这里，try子句先执行，接下来会发生什么依赖于执行时是否出现异常。\n",
    "\n",
    "- 如果当try后的语句执行时发生异常，python就跳回到try并执行第一个匹配该异常的except子句，异常处理完毕，控制流就通过整个try语句（除非在处理异常时又引发新的异常）。\n",
    "- 如果在try后的语句里发生了异常，却没有匹配的except子句，异常将被递交到上层的try，或者到程序的最上层（这样将结束程序，并打印缺省的出错信息）。\n",
    "- 如果在try子句执行时没有发生异常，python将执行else语句后的语句（如果有else的话），然后控制流通过整个try语句。\n"
   ]
  },
  {
   "cell_type": "markdown",
   "metadata": {},
   "source": [
    "### 例子\n"
   ]
  },
  {
   "cell_type": "code",
   "execution_count": 3,
   "metadata": {},
   "outputs": [],
   "source": [
    "file = open('eeee', 'r')  # 经过测试,对于'r'来说,如果文件在本目录下不存在的时候,他是会抛出一个异常的\n",
    "file = open('eeee', 'w')  # 对于'w'来说,如果文件不存在,他是会在本地建立一个'eeee'的文件夹的"
   ]
  },
  {
   "cell_type": "markdown",
   "metadata": {},
   "source": [
    "### 例1: 打开一个文件,并在文件中写入内容,文件中有写入权限."
   ]
  },
  {
   "cell_type": "code",
   "execution_count": null,
   "metadata": {
    "collapsed": true
   },
   "outputs": [],
   "source": [
    "#!/usr/bin/ecv python3\n",
    "# -*- coding: UTF-8 -*-\n",
    "\n",
    "try:\n",
    "    fh = open(\"testfile\", \"w\")\n",
    "    fh.write(\"这是测试文件,写入正常\")\n",
    "except IOError:\n",
    "    print(\"没有找到文件或者文件存在异常\")\n",
    "else:\n",
    "    print(\"文件写入正常\")\n",
    "    fh.close()\n",
    "    \n",
    "# \"文件写入正常\",并且执行cat testfile出现\"这是测试文件,写入正常\"\n"
   ]
  },
  {
   "cell_type": "markdown",
   "metadata": {},
   "source": [
    "### 例二: 打开一个文件,更改文件属性,让其没有写入权限,这时候出现异常\n",
    "\n",
    "* chmod -w testfile 先让该文件夹没有写入权限,则进入except语句当中,输出\n",
    " \"没有找到文件或者文件存在异常\""
   ]
  },
  {
   "cell_type": "markdown",
   "metadata": {},
   "source": [
    "### 使用except而不带任何异常类型\n",
    "\n",
    "* 你可以不带任何异常类型使用except，如下实例：\n",
    "\n",
    "`\n",
    "try:\n",
    "      正常的操作\n",
    "   ......................\n",
    "except:\n",
    "    发生异常，执行这块代码\n",
    "   ......................\n",
    "else:\n",
    "    如果没有异常执行这块代码\n",
    "`\n",
    "\n",
    "* 以上方式try-except语句捕获所有发生的异常。但这不是一个很好的方式，**我们不能通过该程序识别出具体的异常信息。因为它捕获所有的异常。** "
   ]
  },
  {
   "cell_type": "markdown",
   "metadata": {},
   "source": [
    "* 更多细节请参考 [ref](http://www.runoob.com/python/python-exceptions.html)"
   ]
  },
  {
   "cell_type": "code",
   "execution_count": null,
   "metadata": {
    "collapsed": true
   },
   "outputs": [],
   "source": []
  }
 ],
 "metadata": {
  "kernelspec": {
   "display_name": "Python 3",
   "language": "python",
   "name": "python3"
  },
  "language_info": {
   "codemirror_mode": {
    "name": "ipython",
    "version": 3
   },
   "file_extension": ".py",
   "mimetype": "text/x-python",
   "name": "python",
   "nbconvert_exporter": "python",
   "pygments_lexer": "ipython3",
   "version": "3.6.3"
  }
 },
 "nbformat": 4,
 "nbformat_minor": 2
}
