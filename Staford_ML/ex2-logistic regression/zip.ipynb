{
 "cells": [
  {
   "cell_type": "markdown",
   "metadata": {},
   "source": [
    "# A simple  introduction about the zip"
   ]
  },
  {
   "cell_type": "markdown",
   "metadata": {},
   "source": [
    "### I have a list of 2-item tuples and I'd like to convert them to 2 lists where the first contains the first item in each \n",
    "### tuple and the second list holds the second item.\n",
    "###  [zip is its own inverse!](http://stackoverflow.com/a/19343/3943702)"
   ]
  },
  {
   "cell_type": "code",
   "execution_count": 24,
   "metadata": {},
   "outputs": [
    {
     "name": "stdout",
     "output_type": "stream",
     "text": [
      "<zip object at 0x7f8a6f6e47c8>\n"
     ]
    }
   ],
   "source": [
    "original = [('a', 1), ('b', 2), ('c', 3), ('d', 4)]\n",
    "out = zip(*original)\n",
    "print(out)  # because the zip is a iterable,we can not show it directly"
   ]
  },
  {
   "cell_type": "code",
   "execution_count": 25,
   "metadata": {},
   "outputs": [
    {
     "name": "stdout",
     "output_type": "stream",
     "text": [
      "[('a', 'b', 'c', 'd'), (1, 2, 3, 4)]\n"
     ]
    }
   ],
   "source": [
    "list = []   # so, we need to show it in list\n",
    "for i in out:\n",
    "    list.append(i)\n",
    "print(list)"
   ]
  },
  {
   "cell_type": "code",
   "execution_count": 36,
   "metadata": {},
   "outputs": [
    {
     "name": "stdout",
     "output_type": "stream",
     "text": [
      "('a', 'b', 'c', 'd')\n",
      "(1, 2, 3, 4)\n"
     ]
    }
   ],
   "source": [
    "original = [('a', 1), ('b', 2), ('c', 3), ('d', 4)]   # we can use two list to receive the zip \n",
    "list1,list2 = zip(*original)\n",
    "print(list1)\n",
    "print(list2)"
   ]
  },
  {
   "cell_type": "markdown",
   "metadata": {},
   "source": [
    "## Attention: If you have lists that are the same length, you will find the zip function works well , but how about the length of the list is not same, you can see the example as follows:"
   ]
  },
  {
   "cell_type": "code",
   "execution_count": 26,
   "metadata": {},
   "outputs": [
    {
     "name": "stdout",
     "output_type": "stream",
     "text": [
      "[('a', 'b', 'c', 'd', 'e')]\n"
     ]
    }
   ],
   "source": [
    "original = [('a', 1), ('b', 2), ('c', 3), ('d', 4),('e',)]\n",
    "out = zip(*original)\n",
    "list = []   # so, we need to show it in list\n",
    "for i in out:\n",
    "    list.append(i)\n",
    "print(list)"
   ]
  },
  {
   "cell_type": "markdown",
   "metadata": {},
   "source": [
    "### how could we out the correct answers, use map! "
   ]
  },
  {
   "cell_type": "code",
   "execution_count": 27,
   "metadata": {},
   "outputs": [],
   "source": [
    "out = map(None, *[('a', 1), ('b', 2), ('c', 3), ('d', 4), ('e', )])\n"
   ]
  },
  {
   "cell_type": "code",
   "execution_count": 28,
   "metadata": {},
   "outputs": [
    {
     "data": {
      "text/plain": [
       "[('a', 'b', 'c', 'd', 'e'), (1, 2, 3, 4, None)]"
      ]
     },
     "execution_count": 28,
     "metadata": {},
     "output_type": "execute_result"
    }
   ],
   "source": [
    "[('a', 'b', 'c', 'd', 'e'), (1, 2, 3, 4, None)]  # this is what we want to out "
   ]
  },
  {
   "cell_type": "markdown",
   "metadata": {},
   "source": [
    "### In practice, I like to use zip(*iterable) (which is the piece of code you're looking for) in my programs as so:"
   ]
  },
  {
   "cell_type": "code",
   "execution_count": 29,
   "metadata": {
    "collapsed": true
   },
   "outputs": [],
   "source": [
    "def unzip(iterable):\n",
    "    return zip(*iterable)\n"
   ]
  },
  {
   "cell_type": "markdown",
   "metadata": {},
   "source": [
    "## In conclusion:\n"
   ]
  },
  {
   "cell_type": "markdown",
   "metadata": {},
   "source": [
    "## (1) Zip"
   ]
  },
  {
   "cell_type": "code",
   "execution_count": 31,
   "metadata": {
    "collapsed": true
   },
   "outputs": [],
   "source": [
    "# Having this data structure:\n",
    "X=[1,2,3,4]\n",
    "Y=['a','b','c','d']\n",
    "XY=zip(X,Y)"
   ]
  },
  {
   "cell_type": "code",
   "execution_count": 32,
   "metadata": {
    "collapsed": true
   },
   "outputs": [],
   "source": [
    "# Resulting in:\n",
    "In: XY\n",
    "Out: [(1, 'a'), (2, 'b'), (3, 'c'), (4, 'd')]"
   ]
  },
  {
   "cell_type": "markdown",
   "metadata": {},
   "source": [
    "## (2) Unzip\n"
   ]
  },
  {
   "cell_type": "code",
   "execution_count": null,
   "metadata": {
    "collapsed": true
   },
   "outputs": [],
   "source": [
    "x,y=zip(*XY)\n",
    "# But this return a tuple so if you need an array you can use:\n",
    "xy=(list(x),list(y))"
   ]
  },
  {
   "cell_type": "code",
   "execution_count": null,
   "metadata": {
    "collapsed": true
   },
   "outputs": [],
   "source": []
  }
 ],
 "metadata": {
  "kernelspec": {
   "display_name": "Python 3",
   "language": "python",
   "name": "python3"
  },
  "language_info": {
   "codemirror_mode": {
    "name": "ipython",
    "version": 3
   },
   "file_extension": ".py",
   "mimetype": "text/x-python",
   "name": "python",
   "nbconvert_exporter": "python",
   "pygments_lexer": "ipython3",
   "version": "3.6.4"
  }
 },
 "nbformat": 4,
 "nbformat_minor": 2
}
